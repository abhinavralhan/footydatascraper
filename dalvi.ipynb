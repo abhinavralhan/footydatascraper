{
 "cells": [
  {
   "cell_type": "code",
   "execution_count": 70,
   "metadata": {},
   "outputs": [],
   "source": [
    "import pandas as pd\n",
    "import numpy as np"
   ]
  },
  {
   "cell_type": "code",
   "execution_count": 71,
   "metadata": {},
   "outputs": [],
   "source": [
    "df = pd.read_csv('dalvi - Sheet1(1).csv')"
   ]
  },
  {
   "cell_type": "code",
   "execution_count": 72,
   "metadata": {},
   "outputs": [
    {
     "data": {
      "text/html": [
       "<div>\n",
       "<style scoped>\n",
       "    .dataframe tbody tr th:only-of-type {\n",
       "        vertical-align: middle;\n",
       "    }\n",
       "\n",
       "    .dataframe tbody tr th {\n",
       "        vertical-align: top;\n",
       "    }\n",
       "\n",
       "    .dataframe thead th {\n",
       "        text-align: right;\n",
       "    }\n",
       "</style>\n",
       "<table border=\"1\" class=\"dataframe\">\n",
       "  <thead>\n",
       "    <tr style=\"text-align: right;\">\n",
       "      <th></th>\n",
       "      <th>Date</th>\n",
       "      <th>Target/Issuer</th>\n",
       "      <th>ROCE</th>\n",
       "      <th>FCF</th>\n",
       "      <th>Growth</th>\n",
       "      <th>Debt-to-equity</th>\n",
       "      <th>Quick Ratio</th>\n",
       "      <th>Asset Ratio</th>\n",
       "      <th>Market-to-book</th>\n",
       "      <th>size</th>\n",
       "      <th>age</th>\n",
       "    </tr>\n",
       "  </thead>\n",
       "  <tbody>\n",
       "    <tr>\n",
       "      <th>0</th>\n",
       "      <td>06/20/2017</td>\n",
       "      <td>MPIL Corporation Limited (BSE:500450)</td>\n",
       "      <td>-3.9020</td>\n",
       "      <td>-5.229323</td>\n",
       "      <td>7.800000</td>\n",
       "      <td>0.000000</td>\n",
       "      <td>0.000000</td>\n",
       "      <td>0.390321</td>\n",
       "      <td>17.79850</td>\n",
       "      <td>109.17121</td>\n",
       "      <td>58</td>\n",
       "    </tr>\n",
       "    <tr>\n",
       "      <th>1</th>\n",
       "      <td>06/20/2017</td>\n",
       "      <td>Redex Protech Limited (BSE:523650)</td>\n",
       "      <td>1.8721</td>\n",
       "      <td>-0.368857</td>\n",
       "      <td>3.135907</td>\n",
       "      <td>0.028672</td>\n",
       "      <td>5.253887</td>\n",
       "      <td>0.450349</td>\n",
       "      <td>47.74941</td>\n",
       "      <td>41.67113</td>\n",
       "      <td>26</td>\n",
       "    </tr>\n",
       "    <tr>\n",
       "      <th>2</th>\n",
       "      <td>06/20/2017</td>\n",
       "      <td>MPIL Corporation Limited (BSE:500450)</td>\n",
       "      <td>-3.9020</td>\n",
       "      <td>-5.229323</td>\n",
       "      <td>7.800000</td>\n",
       "      <td>0.000000</td>\n",
       "      <td>21.179460</td>\n",
       "      <td>0.390321</td>\n",
       "      <td>17.79850</td>\n",
       "      <td>109.17121</td>\n",
       "      <td>58</td>\n",
       "    </tr>\n",
       "    <tr>\n",
       "      <th>3</th>\n",
       "      <td>06/19/2017</td>\n",
       "      <td>Simplex Castings Limited (BSE:513472)</td>\n",
       "      <td>6.2878</td>\n",
       "      <td>56.868500</td>\n",
       "      <td>1953.099667</td>\n",
       "      <td>0.933444</td>\n",
       "      <td>0.404493</td>\n",
       "      <td>0.733670</td>\n",
       "      <td>165.05617</td>\n",
       "      <td>897.03158</td>\n",
       "      <td>47</td>\n",
       "    </tr>\n",
       "    <tr>\n",
       "      <th>4</th>\n",
       "      <td>06/16/2017</td>\n",
       "      <td>Mehta Securities Limited (BSE:511738)</td>\n",
       "      <td>0.0000</td>\n",
       "      <td>14.293333</td>\n",
       "      <td>-2.569333</td>\n",
       "      <td>0.214137</td>\n",
       "      <td>0.009413</td>\n",
       "      <td>0.024400</td>\n",
       "      <td>4.65643</td>\n",
       "      <td>33.98340</td>\n",
       "      <td>23</td>\n",
       "    </tr>\n",
       "  </tbody>\n",
       "</table>\n",
       "</div>"
      ],
      "text/plain": [
       "         Date                          Target/Issuer    ROCE        FCF  \\\n",
       "0  06/20/2017  MPIL Corporation Limited (BSE:500450) -3.9020  -5.229323   \n",
       "1  06/20/2017     Redex Protech Limited (BSE:523650)  1.8721  -0.368857   \n",
       "2  06/20/2017  MPIL Corporation Limited (BSE:500450) -3.9020  -5.229323   \n",
       "3  06/19/2017  Simplex Castings Limited (BSE:513472)  6.2878  56.868500   \n",
       "4  06/16/2017  Mehta Securities Limited (BSE:511738)  0.0000  14.293333   \n",
       "\n",
       "        Growth  Debt-to-equity  Quick Ratio  Asset Ratio  Market-to-book  \\\n",
       "0     7.800000        0.000000     0.000000     0.390321        17.79850   \n",
       "1     3.135907        0.028672     5.253887     0.450349        47.74941   \n",
       "2     7.800000        0.000000    21.179460     0.390321        17.79850   \n",
       "3  1953.099667        0.933444     0.404493     0.733670       165.05617   \n",
       "4    -2.569333        0.214137     0.009413     0.024400         4.65643   \n",
       "\n",
       "        size  age  \n",
       "0  109.17121   58  \n",
       "1   41.67113   26  \n",
       "2  109.17121   58  \n",
       "3  897.03158   47  \n",
       "4   33.98340   23  "
      ]
     },
     "execution_count": 72,
     "metadata": {},
     "output_type": "execute_result"
    }
   ],
   "source": [
    "df.head()"
   ]
  },
  {
   "cell_type": "code",
   "execution_count": 73,
   "metadata": {},
   "outputs": [
    {
     "data": {
      "text/html": [
       "<div>\n",
       "<style scoped>\n",
       "    .dataframe tbody tr th:only-of-type {\n",
       "        vertical-align: middle;\n",
       "    }\n",
       "\n",
       "    .dataframe tbody tr th {\n",
       "        vertical-align: top;\n",
       "    }\n",
       "\n",
       "    .dataframe thead th {\n",
       "        text-align: right;\n",
       "    }\n",
       "</style>\n",
       "<table border=\"1\" class=\"dataframe\">\n",
       "  <thead>\n",
       "    <tr style=\"text-align: right;\">\n",
       "      <th></th>\n",
       "      <th>ROCE</th>\n",
       "      <th>FCF</th>\n",
       "      <th>Growth</th>\n",
       "      <th>Debt-to-equity</th>\n",
       "      <th>Quick Ratio</th>\n",
       "      <th>Asset Ratio</th>\n",
       "      <th>Market-to-book</th>\n",
       "      <th>size</th>\n",
       "      <th>age</th>\n",
       "    </tr>\n",
       "  </thead>\n",
       "  <tbody>\n",
       "    <tr>\n",
       "      <th>count</th>\n",
       "      <td>304.000000</td>\n",
       "      <td>304.000000</td>\n",
       "      <td>304.000000</td>\n",
       "      <td>304.000000</td>\n",
       "      <td>304.000000</td>\n",
       "      <td>304.000000</td>\n",
       "      <td>304.000000</td>\n",
       "      <td>3.040000e+02</td>\n",
       "      <td>304.000000</td>\n",
       "    </tr>\n",
       "    <tr>\n",
       "      <th>mean</th>\n",
       "      <td>3.745882</td>\n",
       "      <td>210.662232</td>\n",
       "      <td>9609.461591</td>\n",
       "      <td>1.233178</td>\n",
       "      <td>14.556464</td>\n",
       "      <td>0.381076</td>\n",
       "      <td>31.200021</td>\n",
       "      <td>2.389453e+04</td>\n",
       "      <td>34.618421</td>\n",
       "    </tr>\n",
       "    <tr>\n",
       "      <th>std</th>\n",
       "      <td>9.200016</td>\n",
       "      <td>1924.872306</td>\n",
       "      <td>33913.847768</td>\n",
       "      <td>4.462107</td>\n",
       "      <td>57.325768</td>\n",
       "      <td>0.609196</td>\n",
       "      <td>48.323324</td>\n",
       "      <td>1.528141e+05</td>\n",
       "      <td>21.958687</td>\n",
       "    </tr>\n",
       "    <tr>\n",
       "      <th>min</th>\n",
       "      <td>-30.749100</td>\n",
       "      <td>-15833.366670</td>\n",
       "      <td>-2.569333</td>\n",
       "      <td>-8.591403</td>\n",
       "      <td>0.000000</td>\n",
       "      <td>0.000000</td>\n",
       "      <td>0.000000</td>\n",
       "      <td>0.000000e+00</td>\n",
       "      <td>0.000000</td>\n",
       "    </tr>\n",
       "    <tr>\n",
       "      <th>25%</th>\n",
       "      <td>0.000000</td>\n",
       "      <td>-18.190931</td>\n",
       "      <td>28.200000</td>\n",
       "      <td>0.000195</td>\n",
       "      <td>0.442122</td>\n",
       "      <td>0.010816</td>\n",
       "      <td>0.000000</td>\n",
       "      <td>1.072783e+02</td>\n",
       "      <td>25.000000</td>\n",
       "    </tr>\n",
       "    <tr>\n",
       "      <th>50%</th>\n",
       "      <td>1.379100</td>\n",
       "      <td>0.000000</td>\n",
       "      <td>398.768490</td>\n",
       "      <td>0.246677</td>\n",
       "      <td>0.857668</td>\n",
       "      <td>0.183424</td>\n",
       "      <td>11.901590</td>\n",
       "      <td>3.206986e+02</td>\n",
       "      <td>31.000000</td>\n",
       "    </tr>\n",
       "    <tr>\n",
       "      <th>75%</th>\n",
       "      <td>7.812550</td>\n",
       "      <td>30.984120</td>\n",
       "      <td>3585.174584</td>\n",
       "      <td>0.991495</td>\n",
       "      <td>3.000393</td>\n",
       "      <td>0.577517</td>\n",
       "      <td>40.513015</td>\n",
       "      <td>3.443115e+03</td>\n",
       "      <td>36.000000</td>\n",
       "    </tr>\n",
       "    <tr>\n",
       "      <th>max</th>\n",
       "      <td>55.379600</td>\n",
       "      <td>17185.091670</td>\n",
       "      <td>360607.019300</td>\n",
       "      <td>36.819665</td>\n",
       "      <td>803.523587</td>\n",
       "      <td>5.070953</td>\n",
       "      <td>278.299670</td>\n",
       "      <td>2.493980e+06</td>\n",
       "      <td>139.000000</td>\n",
       "    </tr>\n",
       "  </tbody>\n",
       "</table>\n",
       "</div>"
      ],
      "text/plain": [
       "             ROCE           FCF         Growth  Debt-to-equity  Quick Ratio  \\\n",
       "count  304.000000    304.000000     304.000000      304.000000   304.000000   \n",
       "mean     3.745882    210.662232    9609.461591        1.233178    14.556464   \n",
       "std      9.200016   1924.872306   33913.847768        4.462107    57.325768   \n",
       "min    -30.749100 -15833.366670      -2.569333       -8.591403     0.000000   \n",
       "25%      0.000000    -18.190931      28.200000        0.000195     0.442122   \n",
       "50%      1.379100      0.000000     398.768490        0.246677     0.857668   \n",
       "75%      7.812550     30.984120    3585.174584        0.991495     3.000393   \n",
       "max     55.379600  17185.091670  360607.019300       36.819665   803.523587   \n",
       "\n",
       "       Asset Ratio  Market-to-book          size         age  \n",
       "count   304.000000      304.000000  3.040000e+02  304.000000  \n",
       "mean      0.381076       31.200021  2.389453e+04   34.618421  \n",
       "std       0.609196       48.323324  1.528141e+05   21.958687  \n",
       "min       0.000000        0.000000  0.000000e+00    0.000000  \n",
       "25%       0.010816        0.000000  1.072783e+02   25.000000  \n",
       "50%       0.183424       11.901590  3.206986e+02   31.000000  \n",
       "75%       0.577517       40.513015  3.443115e+03   36.000000  \n",
       "max       5.070953      278.299670  2.493980e+06  139.000000  "
      ]
     },
     "execution_count": 73,
     "metadata": {},
     "output_type": "execute_result"
    }
   ],
   "source": [
    "df.describe()"
   ]
  },
  {
   "cell_type": "code",
   "execution_count": 74,
   "metadata": {},
   "outputs": [
    {
     "data": {
      "text/plain": [
       "Index(['Date', 'Target/Issuer', 'ROCE', 'FCF', 'Growth', 'Debt-to-equity',\n",
       "       'Quick Ratio', 'Asset Ratio', 'Market-to-book', 'size', 'age'],\n",
       "      dtype='object')"
      ]
     },
     "execution_count": 74,
     "metadata": {},
     "output_type": "execute_result"
    }
   ],
   "source": [
    "df.columns"
   ]
  },
  {
   "cell_type": "code",
   "execution_count": 75,
   "metadata": {},
   "outputs": [
    {
     "name": "stdout",
     "output_type": "stream",
     "text": [
      "<class 'pandas.core.frame.DataFrame'>\n",
      "RangeIndex: 304 entries, 0 to 303\n",
      "Data columns (total 11 columns):\n",
      "Date              304 non-null object\n",
      "Target/Issuer     304 non-null object\n",
      "ROCE              304 non-null float64\n",
      "FCF               304 non-null float64\n",
      "Growth            304 non-null float64\n",
      "Debt-to-equity    304 non-null float64\n",
      "Quick Ratio       304 non-null float64\n",
      "Asset Ratio       304 non-null float64\n",
      "Market-to-book    304 non-null float64\n",
      "size              304 non-null float64\n",
      "age               304 non-null int64\n",
      "dtypes: float64(8), int64(1), object(2)\n",
      "memory usage: 26.2+ KB\n"
     ]
    }
   ],
   "source": [
    "df.info()"
   ]
  },
  {
   "cell_type": "code",
   "execution_count": 76,
   "metadata": {},
   "outputs": [],
   "source": [
    "df['ROCE'] = df['ROCE'].astype(float)\n",
    "df['ROCE'] = df['ROCE'].replace('nan', 0)"
   ]
  },
  {
   "cell_type": "code",
   "execution_count": 77,
   "metadata": {},
   "outputs": [
    {
     "data": {
      "text/plain": [
       "array([ 7.80000000e+00,  3.13590667e+00,  1.95309967e+03, -2.56933333e+00,\n",
       "        7.03128967e+03,  1.76731000e+01,  8.62708967e+01,  1.87815333e+02,\n",
       "        3.98835350e+03,  3.16143333e+03,  4.23829400e+01,  3.96629770e+02,\n",
       "        1.57147000e+00,  1.11445270e+03,  6.24955333e+04,  2.14596200e+01,\n",
       "        3.26174400e+01,  3.28006000e+02,  1.42150985e+04,  3.06792397e+04,\n",
       "        3.54497113e+02,  2.67488528e+03,  5.78912067e+01,  1.03644667e+00,\n",
       "        1.82837000e+04,  3.68873667e+04,  2.18370897e+02,  2.35440000e+04,\n",
       "        1.45307080e+02,  1.94277333e+04,  4.45985399e+03,  4.12400533e+01,\n",
       "        6.95532933e+01,  6.09082000e+03,  2.31449000e+00,  7.88145667e+00,\n",
       "        1.00410500e+01,  6.07737893e+02,  7.66710000e-01,  2.20060535e+03,\n",
       "        6.11466667e+00,  5.96947567e+01,  1.23333333e+00,  1.36830000e+02,\n",
       "        2.23799067e+05,  3.98768490e+02,  3.07975506e+04,  6.79111000e+02,\n",
       "        8.00000000e+00,  3.56400533e+01,  1.05454327e+04,  1.42922667e+02,\n",
       "        3.67951367e+02,  9.62615000e+02,  6.08746435e+03,  1.64223667e+03,\n",
       "        0.00000000e+00,  7.08525367e+03,  1.68800000e+01,  5.43049767e+03,\n",
       "        2.04463333e+03,  3.54396667e+03,  2.47006177e+04,  3.97633333e+02,\n",
       "        7.94497763e+02,  5.51500333e+00,  6.60577613e+02,  5.55005633e+01,\n",
       "        7.02766333e+03,  1.83918390e+04,  3.99345267e+04,  9.72664000e+00,\n",
       "        2.30935333e+04,  4.19297933e+03,  1.40330009e+05,  4.22226333e+00,\n",
       "        3.60607019e+05,  1.64415473e+04,  3.27710367e+03,  6.17795967e+01,\n",
       "        6.53354333e+00,  5.38469900e+01,  1.06463237e+02,  3.74985200e+04,\n",
       "        5.93521333e+04,  4.24615433e+04,  2.31666747e+04,  2.84475233e+04,\n",
       "       -1.07383333e+00,  1.74364633e+03,  1.91511300e+01,  3.25918167e+03,\n",
       "        6.17468187e+02,  1.20746973e+02,  5.19610420e+02,  1.08461386e+04,\n",
       "        4.24265833e+01,  9.38130000e+02,  2.75688167e+03,  1.92774676e+03,\n",
       "        8.67733667e+00,  9.87281700e+03,  1.44753667e+01,  3.22307133e+04,\n",
       "        3.87152143e+04,  9.90673333e-01,  5.49176667e-01,  3.40325333e+00,\n",
       "        3.28959667e+04,  2.36078000e+04,  3.27872177e+02,  3.37067636e+03,\n",
       "        2.21449000e+02,  1.01059557e+02,  1.55148740e+04,  7.79955700e+01,\n",
       "        8.61297850e+02,  1.10258100e+01,  2.90280262e+03,  4.68984703e+02,\n",
       "        1.62260170e+04,  1.81537000e+04,  1.78529333e+00,  8.78940000e-01,\n",
       "        1.47712422e+03,  4.20574600e+02,  5.96433333e+02,  5.22240567e+03,\n",
       "        2.48796817e+02,  4.14500483e+02,  4.60392183e+02,  4.25797667e+02,\n",
       "        2.34838133e+03,  1.44590000e-01,  4.48321667e+00,  6.20901253e+02,\n",
       "        3.04986767e+01,  2.82140633e+03,  3.16118423e+02,  1.28640933e+04,\n",
       "        6.92999633e+01,  2.02982167e+03,  6.72577833e+01,  9.05638030e+02,\n",
       "        2.66205230e+02,  2.44365573e+05,  1.07823833e+01,  9.47333333e+03,\n",
       "        1.50050153e+02,  4.91681767e+03,  3.23333333e+00,  1.41791667e+03,\n",
       "        1.94097667e+02,  5.30371333e+00,  1.38215766e+03,  1.26080000e+00,\n",
       "        1.15183643e+02,  2.75510133e+04,  3.70879833e+03,  5.77279333e+04,\n",
       "        1.10809367e+03,  7.01802567e+02,  3.20257100e+01,  1.12917033e+01,\n",
       "        1.50529878e+04,  1.13932733e+03,  4.93056847e+02,  5.36433700e+02,\n",
       "        3.05092363e+02,  1.89621603e+02,  1.74378586e+03,  9.23887333e+00,\n",
       "        2.99607033e+01,  4.48031667e+03,  5.58597917e+03,  5.56653383e+04,\n",
       "        1.28279760e+02,  6.69779567e+01,  5.79570000e+03,  7.72409667e+00,\n",
       "        9.43138300e+03,  8.16257667e+02,  1.92919333e+04,  1.82094667e+00,\n",
       "        2.40650433e+01,  7.29925967e+02,  2.82000000e+01,  5.57832857e+02,\n",
       "        2.05677812e+03,  6.30822000e+03,  1.35849286e+05,  7.83472600e+01,\n",
       "        4.60458620e+03,  1.04355745e+03,  5.28508993e+02,  1.38333333e-01,\n",
       "        4.73333333e+00,  5.51886267e+01,  2.99849750e+04,  1.16403003e+02,\n",
       "        5.51238240e+02,  9.70363170e+02,  1.40917170e+04,  4.96338667e+03,\n",
       "        4.45795067e+02,  1.26098117e+02])"
      ]
     },
     "execution_count": 77,
     "metadata": {},
     "output_type": "execute_result"
    }
   ],
   "source": [
    "df.Growth.unique()"
   ]
  },
  {
   "cell_type": "code",
   "execution_count": 78,
   "metadata": {},
   "outputs": [
    {
     "data": {
      "text/plain": [
       "Index(['Date', 'Target/Issuer', 'ROCE', 'FCF', 'Growth', 'Debt-to-equity',\n",
       "       'Quick Ratio', 'Asset Ratio', 'Market-to-book', 'size', 'age'],\n",
       "      dtype='object')"
      ]
     },
     "execution_count": 78,
     "metadata": {},
     "output_type": "execute_result"
    }
   ],
   "source": [
    "df.columns"
   ]
  },
  {
   "cell_type": "code",
   "execution_count": 79,
   "metadata": {},
   "outputs": [
    {
     "data": {
      "text/plain": [
       "414.500483    9\n",
       "10.041050     6\n",
       "194.097667    6\n",
       "32.617440     5\n",
       "0.000000      5\n",
       "Name: Growth, dtype: int64"
      ]
     },
     "execution_count": 79,
     "metadata": {},
     "output_type": "execute_result"
    }
   ],
   "source": [
    "df['Growth'].value_counts().head()"
   ]
  },
  {
   "cell_type": "code",
   "execution_count": 80,
   "metadata": {},
   "outputs": [],
   "source": [
    "target = df['Growth']\n",
    "df = df[['ROCE', 'FCF', 'Debt-to-equity',\n",
    "       'Quick Ratio', 'Asset Ratio', 'Market-to-book', 'size', 'age']]"
   ]
  },
  {
   "cell_type": "code",
   "execution_count": 81,
   "metadata": {},
   "outputs": [
    {
     "data": {
      "text/plain": [
       "array([[-3.90200000e+00, -5.22932333e+00,  0.00000000e+00, ...,\n",
       "         1.77985000e+01,  1.09171210e+02,  5.80000000e+01],\n",
       "       [ 1.87210000e+00, -3.68856667e-01,  2.86722279e-02, ...,\n",
       "         4.77494100e+01,  4.16711300e+01,  2.60000000e+01],\n",
       "       [-3.90200000e+00, -5.22932333e+00,  0.00000000e+00, ...,\n",
       "         1.77985000e+01,  1.09171210e+02,  5.80000000e+01],\n",
       "       ...,\n",
       "       [-1.58120000e+00, -8.95754767e+01,  0.00000000e+00, ...,\n",
       "         2.22958700e+02,  1.54634548e+04,  3.40000000e+01],\n",
       "       [ 5.39600000e-01, -3.63501600e+01,  0.00000000e+00, ...,\n",
       "         2.07095300e+01,  2.92150900e+01,  3.60000000e+01],\n",
       "       [ 0.00000000e+00,  0.00000000e+00,  0.00000000e+00, ...,\n",
       "         0.00000000e+00,  7.65000000e+00,  2.50000000e+01]])"
      ]
     },
     "execution_count": 81,
     "metadata": {},
     "output_type": "execute_result"
    }
   ],
   "source": [
    "data = df.values\n",
    "data"
   ]
  },
  {
   "cell_type": "code",
   "execution_count": 82,
   "metadata": {},
   "outputs": [
    {
     "data": {
      "text/plain": [
       "array([ 7.80000000e+00,  3.13590667e+00,  7.80000000e+00,  1.95309967e+03,\n",
       "       -2.56933333e+00,  7.03128967e+03,  1.76731000e+01,  8.62708967e+01,\n",
       "        1.87815333e+02,  3.98835350e+03,  3.16143333e+03,  4.23829400e+01,\n",
       "        4.23829400e+01,  3.96629770e+02,  3.96629770e+02,  1.57147000e+00,\n",
       "        1.11445270e+03,  6.24955333e+04,  2.14596200e+01,  3.26174400e+01,\n",
       "        3.28006000e+02,  3.28006000e+02,  1.42150985e+04,  3.06792397e+04,\n",
       "        3.54497113e+02,  2.67488528e+03,  5.78912067e+01,  1.03644667e+00,\n",
       "        3.54497113e+02,  1.82837000e+04,  3.68873667e+04,  2.18370897e+02,\n",
       "        2.35440000e+04,  1.45307080e+02,  1.94277333e+04,  4.45985399e+03,\n",
       "        4.12400533e+01,  6.95532933e+01,  6.09082000e+03,  2.31449000e+00,\n",
       "        2.31449000e+00,  7.88145667e+00,  1.00410500e+01,  6.07737893e+02,\n",
       "        7.66710000e-01,  2.20060535e+03,  6.11466667e+00,  5.96947567e+01,\n",
       "        5.96947567e+01,  1.23333333e+00,  1.36830000e+02,  2.23799067e+05,\n",
       "        3.26174400e+01,  3.98768490e+02,  3.07975506e+04,  6.79111000e+02,\n",
       "        8.00000000e+00,  3.56400533e+01,  8.00000000e+00,  1.05454327e+04,\n",
       "        1.05454327e+04,  3.13590667e+00,  1.42922667e+02,  3.67951367e+02,\n",
       "        9.62615000e+02,  6.08746435e+03,  6.08746435e+03,  1.64223667e+03,\n",
       "        0.00000000e+00,  7.08525367e+03,  1.68800000e+01,  1.68800000e+01,\n",
       "        5.43049767e+03,  7.66710000e-01,  2.04463333e+03,  3.54396667e+03,\n",
       "        2.47006177e+04,  3.97633333e+02,  3.97633333e+02,  7.94497763e+02,\n",
       "        0.00000000e+00,  5.51500333e+00,  6.60577613e+02,  5.55005633e+01,\n",
       "        7.02766333e+03,  1.83918390e+04,  3.99345267e+04,  1.00410500e+01,\n",
       "        9.72664000e+00,  2.30935333e+04,  4.19297933e+03,  1.40330009e+05,\n",
       "        4.22226333e+00,  3.60607019e+05,  1.64415473e+04,  3.27710367e+03,\n",
       "        6.17795967e+01,  6.53354333e+00,  6.53354333e+00,  6.53354333e+00,\n",
       "        6.53354333e+00,  5.38469900e+01,  1.06463237e+02,  1.06463237e+02,\n",
       "        3.74985200e+04,  5.93521333e+04,  4.22226333e+00,  4.24615433e+04,\n",
       "        2.31666747e+04,  2.84475233e+04, -1.07383333e+00, -1.07383333e+00,\n",
       "        3.26174400e+01,  1.74364633e+03,  2.31666747e+04,  1.91511300e+01,\n",
       "        3.25918167e+03,  6.17468187e+02,  1.20746973e+02,  5.19610420e+02,\n",
       "        1.08461386e+04,  4.24265833e+01,  9.38130000e+02,  9.38130000e+02,\n",
       "        2.75688167e+03,  2.75688167e+03,  1.92774676e+03,  8.67733667e+00,\n",
       "        9.87281700e+03,  1.44753667e+01,  1.44753667e+01,  2.75688167e+03,\n",
       "        3.22307133e+04,  3.87152143e+04,  9.90673333e-01,  5.49176667e-01,\n",
       "        3.40325333e+00,  5.55005633e+01,  1.00410500e+01,  1.00410500e+01,\n",
       "        3.28959667e+04,  2.36078000e+04,  3.27872177e+02,  3.37067636e+03,\n",
       "        5.55005633e+01,  2.21449000e+02,  1.01059557e+02,  1.55148740e+04,\n",
       "        1.55148740e+04,  3.26174400e+01,  3.06792397e+04,  2.84475233e+04,\n",
       "        7.79955700e+01,  8.61297850e+02,  8.61297850e+02,  1.10258100e+01,\n",
       "        2.90280262e+03,  4.68984703e+02,  3.98768490e+02,  1.62260170e+04,\n",
       "        1.81537000e+04,  3.22307133e+04,  1.78529333e+00,  1.78529333e+00,\n",
       "        8.78940000e-01,  1.47712422e+03,  1.00410500e+01,  1.00410500e+01,\n",
       "        4.20574600e+02,  4.20574600e+02,  5.19610420e+02,  5.19610420e+02,\n",
       "        3.56400533e+01,  5.96433333e+02,  5.22240567e+03,  2.48796817e+02,\n",
       "        5.49176667e-01,  4.14500483e+02,  4.14500483e+02,  4.14500483e+02,\n",
       "        4.14500483e+02,  4.14500483e+02,  4.14500483e+02,  4.14500483e+02,\n",
       "        4.14500483e+02,  4.14500483e+02,  1.40330009e+05,  4.60392183e+02,\n",
       "        4.25797667e+02,  2.34838133e+03,  1.44590000e-01,  1.44590000e-01,\n",
       "        4.48321667e+00,  6.20901253e+02,  6.20901253e+02,  2.04463333e+03,\n",
       "        3.04986767e+01,  2.82140633e+03,  3.16118423e+02,  1.28640933e+04,\n",
       "        6.92999633e+01,  2.02982167e+03,  6.72577833e+01,  3.98768490e+02,\n",
       "        9.62615000e+02,  9.05638030e+02,  3.98768490e+02,  2.66205230e+02,\n",
       "        2.44365573e+05,  3.98768490e+02,  1.07823833e+01,  1.07823833e+01,\n",
       "        9.47333333e+03,  1.50050153e+02,  1.50050153e+02,  4.91681767e+03,\n",
       "        3.16118423e+02,  3.23333333e+00,  1.41791667e+03,  1.40330009e+05,\n",
       "        1.94097667e+02,  5.30371333e+00,  1.68800000e+01,  1.38215766e+03,\n",
       "        1.26080000e+00,  1.15183643e+02,  1.15183643e+02,  1.15183643e+02,\n",
       "        1.74364633e+03,  2.75510133e+04,  3.70879833e+03,  5.77279333e+04,\n",
       "        3.70879833e+03,  1.10809367e+03,  1.40330009e+05,  7.01802567e+02,\n",
       "        7.01802567e+02,  0.00000000e+00,  3.20257100e+01,  1.12917033e+01,\n",
       "        1.50529878e+04,  1.94097667e+02,  1.13932733e+03,  4.93056847e+02,\n",
       "        5.36433700e+02,  3.05092363e+02,  1.89621603e+02,  1.74378586e+03,\n",
       "        9.23887333e+00,  2.99607033e+01,  4.48031667e+03,  5.58597917e+03,\n",
       "        2.99607033e+01,  5.56653383e+04,  3.70879833e+03,  1.28279760e+02,\n",
       "        6.69779567e+01,  5.79570000e+03,  1.94097667e+02,  7.72409667e+00,\n",
       "        1.94097667e+02,  9.43138300e+03,  0.00000000e+00,  8.16257667e+02,\n",
       "        1.92919333e+04,  0.00000000e+00,  1.82094667e+00,  1.82094667e+00,\n",
       "        2.40650433e+01,  7.29925967e+02,  1.07823833e+01,  3.70879833e+03,\n",
       "        2.82000000e+01,  2.82000000e+01,  5.57832857e+02,  2.05677812e+03,\n",
       "        6.30822000e+03,  1.35849286e+05,  7.83472600e+01,  1.94097667e+02,\n",
       "        4.60458620e+03,  1.04355745e+03,  6.09082000e+03,  1.92919333e+04,\n",
       "        5.28508993e+02,  5.28508993e+02,  1.38333333e-01,  1.38333333e-01,\n",
       "        4.73333333e+00,  5.51886267e+01,  1.94097667e+02,  2.99849750e+04,\n",
       "        1.16403003e+02,  5.51238240e+02,  9.70363170e+02,  1.10258100e+01,\n",
       "        4.48321667e+00,  1.40917170e+04,  4.96338667e+03,  2.40650433e+01,\n",
       "        4.45795067e+02,  4.45795067e+02,  3.26174400e+01,  1.26098117e+02])"
      ]
     },
     "execution_count": 82,
     "metadata": {},
     "output_type": "execute_result"
    }
   ],
   "source": [
    "target = target.values\n",
    "target"
   ]
  },
  {
   "cell_type": "code",
   "execution_count": 83,
   "metadata": {},
   "outputs": [
    {
     "data": {
      "text/plain": [
       "array(['ROCE', 'FCF', 'Debt-to-equity', 'Quick Ratio', 'Asset Ratio',\n",
       "       'Market-to-book', 'size', 'age'], dtype=object)"
      ]
     },
     "execution_count": 83,
     "metadata": {},
     "output_type": "execute_result"
    }
   ],
   "source": [
    "features = df.columns.values\n",
    "features"
   ]
  },
  {
   "cell_type": "code",
   "execution_count": 108,
   "metadata": {},
   "outputs": [
    {
     "name": "stdout",
     "output_type": "stream",
     "text": [
      "[(0.411, 'FCF'), (0.369, 'Market-to-book'), (0.163, 'size'), (0.137, 'ROCE'), (0.118, 'Quick Ratio'), (0.039, 'age'), (-0.228, 'Asset Ratio'), (-0.621, 'Debt-to-equity')]\n"
     ]
    }
   ],
   "source": [
    "from sklearn.linear_model import Lasso\n",
    "from sklearn.ensemble import RandomForestRegressor\n",
    "from sklearn.preprocessing import StandardScaler\n",
    "from sklearn.cross_validation import cross_val_score, ShuffleSplit\n",
    "from sklearn.metrics import mean_squared_error, r2_score\n",
    "from sklearn.metrics import roc_auc_score\n",
    "\n",
    "  \n",
    "scaler = StandardScaler()\n",
    "X = scaler.fit_transform(data)\n",
    "Y = target\n",
    "names = features\n",
    "l = []\n",
    "for _ in range(10):\n",
    "    rf = RandomForestRegressor(n_estimators=20, max_depth=4)\n",
    "    rf.fit(X,Y)\n",
    "    scores = []\n",
    "    for i in range(X.shape[1]):\n",
    "        score = cross_val_score(rf, X[:, i:i+1], Y, scoring=\"r2\", cv=ShuffleSplit(len(X), 3, .3))\n",
    "        scores.append((round(np.mean(score), 3), names[i]))\n",
    "    #print(i)\n",
    "    #l += scores\n",
    "    #print('l ' + str(l) + '\\n\\nscores ' + str(scores))\n",
    "    #avg += score\n",
    "print(sorted(scores, reverse=True))\n",
    "#scores"
   ]
  },
  {
   "cell_type": "code",
   "execution_count": 32,
   "metadata": {},
   "outputs": [
    {
     "name": "stdout",
     "output_type": "stream",
     "text": [
      "[(0.46, 'FCF'), (0.186, 'size'), (0.182, 'ROCE'), (0.11, 'Market-to-book'), (-0.06, 'Asset Ratio'), (-0.074, 'age'), (-0.359, 'Quick Ratio'), (-0.427, 'Debt-to-equity')]\n"
     ]
    }
   ],
   "source": [
    "for i in range(10):\n",
    "    lasso = Lasso(alpha=.3)\n",
    "    lasso.fit(X, Y)\n",
    "\n",
    "    scores = []\n",
    "    for i in range(X.shape[1]):\n",
    "         score = cross_val_score(rf, X[:, i:i+1], Y, scoring=\"r2\",\n",
    "                                  cv=ShuffleSplit(len(X), 3, .3))\n",
    "         scores.append((round(np.mean(score), 3), names[i]))\n",
    "print(sorted(scores, reverse=True))"
   ]
  },
  {
   "cell_type": "code",
   "execution_count": 31,
   "metadata": {},
   "outputs": [
    {
     "name": "stdout",
     "output_type": "stream",
     "text": [
      "[(0.098, 'FCF'), (-0.084, 'size'), (-0.112, 'Debt-to-equity'), (-0.168, 'Market-to-book'), (-0.183, 'ROCE'), (-0.185, 'Quick Ratio'), (-2.263, 'Asset Ratio'), (-4.489, 'age')]\n"
     ]
    }
   ],
   "source": [
    "from sklearn.linear_model import Lasso\n",
    "from sklearn.ensemble import RandomForestRegressor\n",
    "from sklearn.preprocessing import StandardScaler\n",
    "from sklearn.cross_validation import cross_val_score, ShuffleSplit\n",
    "from sklearn.metrics import mean_squared_error, r2_score\n",
    "from sklearn.metrics import roc_auc_score\n",
    "\n",
    "  \n",
    "scaler = StandardScaler()\n",
    "X = scaler.fit_transform(data)\n",
    "Y = target\n",
    "names = features\n",
    " \n",
    "for i in range(10):\n",
    "    rf = RandomForestRegressor(n_estimators=20, max_depth=4)\n",
    "    rf.fit(X,Y)\n",
    "    scores = []\n",
    "    for i in range(X.shape[1]):\n",
    "         score = cross_val_score(rf, X[:, i:i+1], Y, scoring=\"r2\",\n",
    "                                  cv=ShuffleSplit(len(X), 3, .3))\n",
    "         scores.append((round(np.mean(score), 3), names[i]))\n",
    "    #avg += score\n",
    "print(sorted(scores, reverse=True))"
   ]
  },
  {
   "cell_type": "code",
   "execution_count": 62,
   "metadata": {},
   "outputs": [
    {
     "data": {
      "text/plain": [
       "-0.087"
      ]
     },
     "execution_count": 62,
     "metadata": {},
     "output_type": "execute_result"
    }
   ],
   "source": [
    "scores[0][0]"
   ]
  },
  {
   "cell_type": "code",
   "execution_count": null,
   "metadata": {},
   "outputs": [],
   "source": []
  }
 ],
 "metadata": {
  "kernelspec": {
   "display_name": "Python 3",
   "language": "python",
   "name": "python3"
  },
  "language_info": {
   "codemirror_mode": {
    "name": "ipython",
    "version": 3
   },
   "file_extension": ".py",
   "mimetype": "text/x-python",
   "name": "python",
   "nbconvert_exporter": "python",
   "pygments_lexer": "ipython3",
   "version": "3.5.2"
  }
 },
 "nbformat": 4,
 "nbformat_minor": 2
}
